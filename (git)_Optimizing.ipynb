{
  "cells": [
    {
      "cell_type": "code",
      "execution_count": null,
      "metadata": {
        "colab": {
          "base_uri": "https://localhost:8080/"
        },
        "id": "ZfnR2Kh84zGo",
        "outputId": "8fd97e13-e852-4eeb-fab9-e4d78fdcfc20"
      },
      "outputs": [
        {
          "output_type": "stream",
          "name": "stdout",
          "text": [
            "Mounted at /content/drive\n"
          ]
        }
      ],
      "source": [
        "from google.colab import drive\n",
        "drive.mount('/content/drive')"
      ]
    },
    {
      "cell_type": "code",
      "execution_count": null,
      "metadata": {
        "colab": {
          "base_uri": "https://localhost:8080/"
        },
        "id": "mv25nClc47U7",
        "outputId": "d7a933c1-fce6-4d38-bd6e-1c7aa378192b"
      },
      "outputs": [
        {
          "output_type": "stream",
          "name": "stdout",
          "text": [
            "Collecting optuna\n",
            "  Downloading optuna-4.0.0-py3-none-any.whl.metadata (16 kB)\n",
            "Collecting alembic>=1.5.0 (from optuna)\n",
            "  Downloading alembic-1.13.2-py3-none-any.whl.metadata (7.4 kB)\n",
            "Collecting colorlog (from optuna)\n",
            "  Downloading colorlog-6.8.2-py3-none-any.whl.metadata (10 kB)\n",
            "Requirement already satisfied: numpy in /usr/local/lib/python3.10/dist-packages (from optuna) (1.26.4)\n",
            "Requirement already satisfied: packaging>=20.0 in /usr/local/lib/python3.10/dist-packages (from optuna) (24.1)\n",
            "Requirement already satisfied: sqlalchemy>=1.3.0 in /usr/local/lib/python3.10/dist-packages (from optuna) (2.0.34)\n",
            "Requirement already satisfied: tqdm in /usr/local/lib/python3.10/dist-packages (from optuna) (4.66.5)\n",
            "Requirement already satisfied: PyYAML in /usr/local/lib/python3.10/dist-packages (from optuna) (6.0.2)\n",
            "Collecting Mako (from alembic>=1.5.0->optuna)\n",
            "  Downloading Mako-1.3.5-py3-none-any.whl.metadata (2.9 kB)\n",
            "Requirement already satisfied: typing-extensions>=4 in /usr/local/lib/python3.10/dist-packages (from alembic>=1.5.0->optuna) (4.12.2)\n",
            "Requirement already satisfied: greenlet!=0.4.17 in /usr/local/lib/python3.10/dist-packages (from sqlalchemy>=1.3.0->optuna) (3.0.3)\n",
            "Requirement already satisfied: MarkupSafe>=0.9.2 in /usr/local/lib/python3.10/dist-packages (from Mako->alembic>=1.5.0->optuna) (2.1.5)\n",
            "Downloading optuna-4.0.0-py3-none-any.whl (362 kB)\n",
            "\u001b[2K   \u001b[90m━━━━━━━━━━━━━━━━━━━━━━━━━━━━━━━━━━━━━━━━\u001b[0m \u001b[32m362.8/362.8 kB\u001b[0m \u001b[31m28.3 MB/s\u001b[0m eta \u001b[36m0:00:00\u001b[0m\n",
            "\u001b[?25hDownloading alembic-1.13.2-py3-none-any.whl (232 kB)\n",
            "\u001b[2K   \u001b[90m━━━━━━━━━━━━━━━━━━━━━━━━━━━━━━━━━━━━━━━━\u001b[0m \u001b[32m233.0/233.0 kB\u001b[0m \u001b[31m18.2 MB/s\u001b[0m eta \u001b[36m0:00:00\u001b[0m\n",
            "\u001b[?25hDownloading colorlog-6.8.2-py3-none-any.whl (11 kB)\n",
            "Downloading Mako-1.3.5-py3-none-any.whl (78 kB)\n",
            "\u001b[2K   \u001b[90m━━━━━━━━━━━━━━━━━━━━━━━━━━━━━━━━━━━━━━━━\u001b[0m \u001b[32m78.6/78.6 kB\u001b[0m \u001b[31m7.4 MB/s\u001b[0m eta \u001b[36m0:00:00\u001b[0m\n",
            "\u001b[?25hInstalling collected packages: Mako, colorlog, alembic, optuna\n",
            "Successfully installed Mako-1.3.5 alembic-1.13.2 colorlog-6.8.2 optuna-4.0.0\n",
            "Found 177 files belonging to 26 classes.\n",
            "Found 59 files belonging to 10 classes.\n"
          ]
        }
      ],
      "source": [
        "import tensorflow as tf\n",
        "from tensorflow.keras.preprocessing import image_dataset_from_directory\n",
        "import numpy as np\n",
        "from tensorflow.keras.layers import *\n",
        "from tensorflow.keras.models import Sequential, Model\n",
        "import cv2\n",
        "from sklearn.cluster import KMeans\n",
        "import matplotlib.pyplot as plt\n",
        "from tensorflow.keras.callbacks import EarlyStopping\n",
        "import os\n",
        "from keras import layers\n",
        "import keras\n",
        "!pip install optuna\n",
        "\n",
        "# Path to your dataset\n",
        "dataset_path_train = \"/content/drive/Shareddrives/Internship data sets/Training\"\n",
        "dataset_path_val = \"/content/drive/Shareddrives/Internship data sets/Validation\"\n",
        "\n",
        "\n",
        "# Load the dataset\n",
        "batch_size = 32\n",
        "img_height = 256  # Change this to your image height\n",
        "img_width = 256   # Change this to your image width\n",
        "#training presets\n",
        "\n",
        "train_ds = image_dataset_from_directory(\n",
        "    dataset_path_train,\n",
        "    seed=123,\n",
        "    image_size=(img_height, img_width),\n",
        "    batch_size=batch_size\n",
        ")\n",
        "\n",
        "val_ds = image_dataset_from_directory(\n",
        "    dataset_path_val,\n",
        "    seed=123,\n",
        "    image_size=(img_height, img_width),\n",
        "    batch_size=batch_size\n",
        ")"
      ]
    },
    {
      "cell_type": "markdown",
      "source": [
        "Model 1"
      ],
      "metadata": {
        "id": "6IsNnOIjpnR-"
      }
    },
    {
      "cell_type": "code",
      "source": [
        "import optuna\n",
        "import cv2\n",
        "import numpy as np\n",
        "\n",
        "class GaborFilterTuner:\n",
        "    def __init__(self, train_ds, val_ds):\n",
        "        self.train_ds = train_ds\n",
        "        self.val_ds = val_ds\n",
        "\n",
        "    def apply_gabor_filter(self, img, kernel_size, sigma, theta, lambda_, gamma, psi):\n",
        "        # Apply Gabor filter to the image\n",
        "        if img.ndim == 2:  # Check if the image is already grayscale\n",
        "            img_gray = img\n",
        "        else:  # Convert image to grayscale before applying the filter\n",
        "            img_gray = cv2.cvtColor(img, cv2.COLOR_BGR2GRAY)\n",
        "\n",
        "        g_kernel = cv2.getGaborKernel(kernel_size, sigma, theta, lambda_, gamma, psi, ktype=cv2.CV_32F)\n",
        "        filtered_img = cv2.filter2D(img_gray, -1, g_kernel)\n",
        "        return filtered_img\n",
        "\n",
        "    def objective(self, trial):\n",
        "        kernel_size = trial.suggest_categorical('kernel_size', [(3, 3), (5, 5), (7, 7), (9, 9), (11, 11)])\n",
        "        sigma = trial.suggest_float('sigma', 1.0, 10.0)\n",
        "        theta = trial.suggest_categorical('theta', [0, 15, 30, 45, 60, 75, 90])\n",
        "        lambda_ = trial.suggest_float('lambda_', 1.0, 10.0)\n",
        "        gamma = trial.suggest_float('gamma', 0.5, 2.0)\n",
        "        psi = trial.suggest_categorical('psi', [0, 15, 30, 45, 60, 75, 90])\n",
        "\n",
        "        # Apply Gabor filter to the training and validation data\n",
        "        X_train_pairs, y_train_pairs = [], []\n",
        "        y_train_labels = []\n",
        "        X_val_pairs, y_val_pairs = [], []\n",
        "        all_images = []\n",
        "        all_labels = []\n",
        "\n",
        "        for batch in train_ds:\n",
        "            images, labels = batch\n",
        "            all_images.extend(images)\n",
        "            all_labels.extend(labels)\n",
        "\n",
        "        for i in range(len(all_images)):\n",
        "            img_A_org, label_A = all_images[i], all_labels[i]\n",
        "            img_A = self.apply_gabor_filter(img_A_org.numpy(), kernel_size, sigma, theta, lambda_, gamma, psi)\n",
        "            #print(\"A is: \" ,all_labels[i])\n",
        "\n",
        "            num = 0\n",
        "\n",
        "            # Create pairs with other images\n",
        "            for j in range(i, len(all_images)):\n",
        "                img_B_org, label_B = all_images[j], all_labels[j]\n",
        "                img_B = self.apply_gabor_filter(img_B_org.numpy(), kernel_size, sigma, theta, lambda_, gamma, psi)\n",
        "                #print(\"B is: \" ,all_labels[j])\n",
        "                if label_A == label_B:\n",
        "                    new_label = 1  # same class, label is 1\n",
        "                    X_train_pairs.append([img_A, img_B])\n",
        "                    y_train_pairs.append(new_label)\n",
        "                    X_train_pairs.append([img_A, img_B])\n",
        "                    y_train_pairs.append(new_label)\n",
        "                    X_train_pairs.append([img_A, img_B])\n",
        "                    y_train_pairs.append(new_label)\n",
        "                    X_train_pairs.append([img_A, img_B])\n",
        "                    y_train_pairs.append(new_label)\n",
        "                    X_train_pairs.append([img_A, img_B])\n",
        "                    y_train_pairs.append(new_label)\n",
        "                else:\n",
        "                    new_label = 0  # different class, label is 0\n",
        "\n",
        "                    if num==0 or num==1 or num==2:\n",
        "                      num+=1\n",
        "                    elif num==3:\n",
        "                      num-=3\n",
        "                      X_train_pairs.append([img_A, img_B])\n",
        "                      y_train_pairs.append(new_label)\n",
        "\n",
        "\n",
        "        all_images = []\n",
        "        all_labels = []\n",
        "\n",
        "        for batch in val_ds:\n",
        "            images, labels = batch\n",
        "            all_images.extend(images)\n",
        "            all_labels.extend(labels)\n",
        "\n",
        "        for i in range(len(all_images)):\n",
        "            img_A_org, label_A = all_images[i], all_labels[i]\n",
        "            img_A = self.apply_gabor_filter(img_A_org.numpy(), kernel_size, sigma, theta, lambda_, gamma, psi)\n",
        "\n",
        "            num=0\n",
        "\n",
        "            # Create pairs with other images ( non-identical pairs )\n",
        "            for j in range(i, len(all_images)):\n",
        "                img_B_org, label_B = all_images[j], all_labels[j]\n",
        "                img_B = self.apply_gabor_filter(img_B_org.numpy(), kernel_size, sigma, theta, lambda_, gamma, psi)\n",
        "                new_label = int(label_A == label_B)\n",
        "                #print(new_label)\n",
        "                if label_A == label_B:\n",
        "                    new_label = 1  # same class, label is 1\n",
        "                    X_val_pairs.append([img_B, img_A])\n",
        "                    y_val_pairs.append(new_label)\n",
        "                    X_val_pairs.append([img_B, img_A])\n",
        "                    y_val_pairs.append(new_label)\n",
        "                else:\n",
        "                    new_label = 0  # different class, label is 0\n",
        "\n",
        "                    if num==0 or num==1 or num==2:\n",
        "                      num+=1\n",
        "                    elif num==3:\n",
        "                      num-=3\n",
        "                      X_val_pairs.append([img_A, img_B])\n",
        "                      y_val_pairs.append(new_label)\n",
        "\n",
        "\n",
        "        X_train_pairs = np.array(X_train_pairs)\n",
        "        y_train_pairs = np.array(y_train_pairs)\n",
        "        X_val_pairs = np.array(X_val_pairs)\n",
        "        y_val_pairs = np.array(y_val_pairs)\n",
        "\n",
        "        X_train_pairs_A = X_train_pairs[:, 0, :, :]  # shape: (619, 256, 256)\n",
        "        X_train_pairs_B = X_train_pairs[:, 1, :, :]  # shape: (619, 256, 256)\n",
        "        X_val_pairs_A = X_val_pairs[:, 0, :, :]  # shape: (619, 256, 256)\n",
        "        X_val_pairs_B = X_val_pairs[:, 1, :, :]  # shape: (619, 256, 256)\n",
        "\n",
        "        # Create the network\n",
        "        img_height = 256\n",
        "        img_width = 256\n",
        "\n",
        "        dim = 128\n",
        "        chan = 4\n",
        "\n",
        "        img_A_inp = Input((img_height, img_width, 1), name='img_A_inp')\n",
        "\n",
        "\n",
        "        img_B_inp = Input((img_height, img_width, 1), name='img_B_inp')\n",
        "\n",
        "\n",
        "        def get_cnn_block(depth, size):\n",
        "                    return Sequential([\n",
        "                        Conv2D(depth, size, 1, padding = 'same'),\n",
        "                        BatchNormalization(),\n",
        "                        Activation('relu'),\n",
        "                        MaxPooling2D(),\n",
        "                        Dropout(0.2)\n",
        "        ])\n",
        "\n",
        "        DEPTH = 32\n",
        "\n",
        "        cnn1 = Sequential([\n",
        "                        get_cnn_block(DEPTH, 7),\n",
        "                        get_cnn_block(DEPTH*2, 5),\n",
        "                        get_cnn_block(DEPTH*2, 5),\n",
        "                        get_cnn_block(DEPTH*4, 3),\n",
        "        ])\n",
        "\n",
        "        feature_vector_A = cnn1(img_A_inp)\n",
        "\n",
        "        feature_vector_B = cnn1(img_B_inp)\n",
        "\n",
        "        cnn = Sequential([\n",
        "          GlobalAveragePooling2D(),\n",
        "          Flatten(),\n",
        "          Dense(64, activation='relu'),\n",
        "        ])\n",
        "\n",
        "        concat = Concatenate()([feature_vector_A, feature_vector_B])\n",
        "\n",
        "        concat_processed = cnn(concat)\n",
        "\n",
        "        dense = Dense(64, activation='relu')(concat)\n",
        "        output = Dense(2, activation='softmax')(dense)\n",
        "\n",
        "        model = Model(inputs=[img_A_inp, img_B_inp], outputs=output)\n",
        "\n",
        "        # Compile the model\n",
        "        model.compile(optimizer='adam', loss='categorical_crossentropy', metrics=['accuracy'])\n",
        "\n",
        "        # Train the model\n",
        "        model.fit([X_train_pairs_A, X_train_pairs_B], tf.keras.utils.to_categorical(y_train_pairs, num_classes=2), epochs=30, batch_size=8, verbose=0)\n",
        "\n",
        "        # Evaluate the model\n",
        "        y_pred = model.predict([X_val_pairs_A, X_val_pairs_B])\n",
        "        y_pred_class = np.argmax(y_pred, axis=1)\n",
        "        accuracy = np.mean(y_pred_class == y_val_pairs)\n",
        "\n",
        "        return -accuracy\n",
        "\n",
        "    def tune_hyperparameters(self, n_trials=50):\n",
        "        study = optuna.create_study(direction='minimize', pruner=MedianPruner())\n",
        "        study.optimize(self.objective, n_trials=n_trials)\n",
        "        best_trial = study.best_trial\n",
        "        best_params = best_trial.params\n",
        "        best_accuracy = -best_trial.value\n",
        "        return best_params, best_accuracy\n",
        "\n"
      ],
      "metadata": {
        "id": "QVFBJG_d5Fou"
      },
      "execution_count": null,
      "outputs": []
    },
    {
      "cell_type": "code",
      "source": [
        "from optuna.pruners import MedianPruner\n",
        "# Set the verbosity level to INFO\n",
        "optuna.logging.set_verbosity(optuna.logging.DEBUG)\n",
        "\n",
        "# Create an instance of the GaborFilterTuner class\n",
        "tuner = GaborFilterTuner(train_ds, val_ds)\n",
        "\n",
        "# Tune the hyperparameters\n",
        "best_params, best_accuracy = tuner.tune_hyperparameters(n_trials=20)\n",
        "\n",
        "print(\"Best parameters:\", best_params)\n",
        "print(\"Best accuracy:\", best_accuracy)"
      ],
      "metadata": {
        "colab": {
          "base_uri": "https://localhost:8080/"
        },
        "id": "gXD6rasP5W3s",
        "outputId": "843b8cd7-c211-4cb3-a6d7-9e4f73d9ff61"
      },
      "execution_count": null,
      "outputs": [
        {
          "metadata": {
            "tags": null
          },
          "name": "stderr",
          "output_type": "stream",
          "text": [
            "[I 2024-09-12 01:42:56,484] A new study created in memory with name: no-name-3224a974-fc3d-4e02-8832-7c4332104001\n",
            "/usr/local/lib/python3.10/dist-packages/optuna/distributions.py:524: UserWarning: Choices for a categorical distribution should be a tuple of None, bool, int, float and str for persistent storage but contains (3, 3) which is of type tuple.\n",
            "  warnings.warn(message)\n",
            "/usr/local/lib/python3.10/dist-packages/optuna/distributions.py:524: UserWarning: Choices for a categorical distribution should be a tuple of None, bool, int, float and str for persistent storage but contains (5, 5) which is of type tuple.\n",
            "  warnings.warn(message)\n",
            "/usr/local/lib/python3.10/dist-packages/optuna/distributions.py:524: UserWarning: Choices for a categorical distribution should be a tuple of None, bool, int, float and str for persistent storage but contains (7, 7) which is of type tuple.\n",
            "  warnings.warn(message)\n",
            "/usr/local/lib/python3.10/dist-packages/optuna/distributions.py:524: UserWarning: Choices for a categorical distribution should be a tuple of None, bool, int, float and str for persistent storage but contains (9, 9) which is of type tuple.\n",
            "  warnings.warn(message)\n",
            "/usr/local/lib/python3.10/dist-packages/optuna/distributions.py:524: UserWarning: Choices for a categorical distribution should be a tuple of None, bool, int, float and str for persistent storage but contains (11, 11) which is of type tuple.\n",
            "  warnings.warn(message)\n"
          ]
        },
        {
          "metadata": {
            "tags": null
          },
          "name": "stdout",
          "output_type": "stream",
          "text": [
            "\u001b[1m25/25\u001b[0m \u001b[32m━━━━━━━━━━━━━━━━━━━━\u001b[0m\u001b[37m\u001b[0m \u001b[1m4s\u001b[0m 96ms/step\n"
          ]
        },
        {
          "metadata": {
            "tags": null
          },
          "name": "stderr",
          "output_type": "stream",
          "text": [
            "[I 2024-09-12 01:55:52,112] Trial 0 finished with value: -0.8831003811944091 and parameters: {'kernel_size': (5, 5), 'sigma': 2.14647231746076, 'theta': 30, 'lambda_': 5.552071305415156, 'gamma': 1.9451188407851672, 'psi': 45}. Best is trial 0 with value: -0.8831003811944091.\n"
          ]
        },
        {
          "metadata": {
            "tags": null
          },
          "name": "stdout",
          "output_type": "stream",
          "text": [
            "\u001b[1m25/25\u001b[0m \u001b[32m━━━━━━━━━━━━━━━━━━━━\u001b[0m\u001b[37m\u001b[0m \u001b[1m3s\u001b[0m 89ms/step\n"
          ]
        },
        {
          "metadata": {
            "tags": null
          },
          "name": "stderr",
          "output_type": "stream",
          "text": [
            "[I 2024-09-12 02:08:28,668] Trial 1 finished with value: -0.8775510204081632 and parameters: {'kernel_size': (5, 5), 'sigma': 2.781211256912874, 'theta': 0, 'lambda_': 2.6061641036454293, 'gamma': 0.6661373467311948, 'psi': 15}. Best is trial 0 with value: -0.8831003811944091.\n"
          ]
        },
        {
          "metadata": {
            "tags": null
          },
          "name": "stdout",
          "output_type": "stream",
          "text": [
            "\u001b[1m25/25\u001b[0m \u001b[32m━━━━━━━━━━━━━━━━━━━━\u001b[0m\u001b[37m\u001b[0m \u001b[1m2s\u001b[0m 56ms/step\n"
          ]
        },
        {
          "metadata": {
            "tags": null
          },
          "name": "stderr",
          "output_type": "stream",
          "text": [
            "[I 2024-09-12 02:20:58,828] Trial 2 finished with value: -0.8456632653061225 and parameters: {'kernel_size': (3, 3), 'sigma': 4.508964797608062, 'theta': 0, 'lambda_': 4.923877816068466, 'gamma': 0.8979678934917488, 'psi': 75}. Best is trial 0 with value: -0.8831003811944091.\n"
          ]
        },
        {
          "metadata": {
            "tags": null
          },
          "name": "stdout",
          "output_type": "stream",
          "text": [
            "\u001b[1m25/25\u001b[0m \u001b[32m━━━━━━━━━━━━━━━━━━━━\u001b[0m\u001b[37m\u001b[0m \u001b[1m3s\u001b[0m 86ms/step\n"
          ]
        },
        {
          "metadata": {
            "tags": null
          },
          "name": "stderr",
          "output_type": "stream",
          "text": [
            "[I 2024-09-12 02:33:35,725] Trial 3 finished with value: -0.7953964194373402 and parameters: {'kernel_size': (9, 9), 'sigma': 6.353382384426221, 'theta': 45, 'lambda_': 9.089117311140535, 'gamma': 0.8266647988032527, 'psi': 0}. Best is trial 0 with value: -0.8831003811944091.\n"
          ]
        },
        {
          "output_type": "stream",
          "name": "stdout",
          "text": [
            "\u001b[1m25/25\u001b[0m \u001b[32m━━━━━━━━━━━━━━━━━━━━\u001b[0m\u001b[37m\u001b[0m \u001b[1m2s\u001b[0m 56ms/step\n"
          ]
        },
        {
          "output_type": "stream",
          "name": "stderr",
          "text": [
            "[I 2024-09-12 02:46:07,829] Trial 4 finished with value: -0.8392857142857143 and parameters: {'kernel_size': (5, 5), 'sigma': 3.64752572446163, 'theta': 45, 'lambda_': 4.042184062603587, 'gamma': 1.7896744665342226, 'psi': 15}. Best is trial 0 with value: -0.8831003811944091.\n"
          ]
        },
        {
          "output_type": "stream",
          "name": "stdout",
          "text": [
            "\u001b[1m25/25\u001b[0m \u001b[32m━━━━━━━━━━━━━━━━━━━━\u001b[0m\u001b[37m\u001b[0m \u001b[1m3s\u001b[0m 99ms/step\n"
          ]
        },
        {
          "output_type": "stream",
          "name": "stderr",
          "text": [
            "[I 2024-09-12 02:58:53,692] Trial 5 finished with value: -0.8883248730964467 and parameters: {'kernel_size': (11, 11), 'sigma': 1.760422749684304, 'theta': 90, 'lambda_': 2.8932543679441514, 'gamma': 1.537875361807425, 'psi': 0}. Best is trial 5 with value: -0.8883248730964467.\n"
          ]
        },
        {
          "output_type": "stream",
          "name": "stdout",
          "text": [
            "\u001b[1m25/25\u001b[0m \u001b[32m━━━━━━━━━━━━━━━━━━━━\u001b[0m\u001b[37m\u001b[0m \u001b[1m2s\u001b[0m 55ms/step\n"
          ]
        },
        {
          "output_type": "stream",
          "name": "stderr",
          "text": [
            "[I 2024-09-12 03:11:34,347] Trial 6 finished with value: -0.8303571428571429 and parameters: {'kernel_size': (11, 11), 'sigma': 2.2388072335793927, 'theta': 75, 'lambda_': 7.375835696596662, 'gamma': 1.7950282371034851, 'psi': 75}. Best is trial 5 with value: -0.8883248730964467.\n"
          ]
        },
        {
          "output_type": "stream",
          "name": "stdout",
          "text": [
            "\u001b[1m25/25\u001b[0m \u001b[32m━━━━━━━━━━━━━━━━━━━━\u001b[0m\u001b[37m\u001b[0m \u001b[1m3s\u001b[0m 89ms/step\n"
          ]
        },
        {
          "output_type": "stream",
          "name": "stderr",
          "text": [
            "[I 2024-09-12 03:24:11,107] Trial 7 finished with value: -0.7854406130268199 and parameters: {'kernel_size': (9, 9), 'sigma': 2.3814922012990447, 'theta': 15, 'lambda_': 9.741692931745472, 'gamma': 1.5973170938765011, 'psi': 15}. Best is trial 5 with value: -0.8883248730964467.\n"
          ]
        },
        {
          "output_type": "stream",
          "name": "stdout",
          "text": [
            "\u001b[1m25/25\u001b[0m \u001b[32m━━━━━━━━━━━━━━━━━━━━\u001b[0m\u001b[37m\u001b[0m \u001b[1m3s\u001b[0m 98ms/step\n"
          ]
        },
        {
          "output_type": "stream",
          "name": "stderr",
          "text": [
            "[I 2024-09-12 03:36:57,507] Trial 8 finished with value: -0.8924050632911392 and parameters: {'kernel_size': (11, 11), 'sigma': 7.004504356700036, 'theta': 45, 'lambda_': 1.9986000800271781, 'gamma': 1.9084317543432967, 'psi': 75}. Best is trial 8 with value: -0.8924050632911392.\n"
          ]
        },
        {
          "output_type": "stream",
          "name": "stdout",
          "text": [
            "\u001b[1m25/25\u001b[0m \u001b[32m━━━━━━━━━━━━━━━━━━━━\u001b[0m\u001b[37m\u001b[0m \u001b[1m2s\u001b[0m 55ms/step\n"
          ]
        },
        {
          "output_type": "stream",
          "name": "stderr",
          "text": [
            "[I 2024-09-12 03:49:34,268] Trial 9 finished with value: -0.8237547892720306 and parameters: {'kernel_size': (9, 9), 'sigma': 9.410932162971068, 'theta': 45, 'lambda_': 8.536093426139063, 'gamma': 1.9492574418281716, 'psi': 30}. Best is trial 8 with value: -0.8924050632911392.\n"
          ]
        },
        {
          "output_type": "stream",
          "name": "stdout",
          "text": [
            "\u001b[1m25/25\u001b[0m \u001b[32m━━━━━━━━━━━━━━━━━━━━\u001b[0m\u001b[37m\u001b[0m \u001b[1m3s\u001b[0m 100ms/step\n"
          ]
        },
        {
          "output_type": "stream",
          "name": "stderr",
          "text": [
            "[I 2024-09-12 04:02:06,924] Trial 10 finished with value: -0.8453738910012675 and parameters: {'kernel_size': (7, 7), 'sigma': 7.455988544255095, 'theta': 60, 'lambda_': 1.0072900080688567, 'gamma': 1.1496559977755434, 'psi': 90}. Best is trial 8 with value: -0.8924050632911392.\n"
          ]
        },
        {
          "output_type": "stream",
          "name": "stdout",
          "text": [
            "\u001b[1m25/25\u001b[0m \u001b[32m━━━━━━━━━━━━━━━━━━━━\u001b[0m\u001b[37m\u001b[0m \u001b[1m2s\u001b[0m 56ms/step\n"
          ]
        },
        {
          "output_type": "stream",
          "name": "stderr",
          "text": [
            "[I 2024-09-12 04:14:51,421] Trial 11 finished with value: -0.8209718670076727 and parameters: {'kernel_size': (11, 11), 'sigma': 7.52105257017257, 'theta': 90, 'lambda_': 1.2862681262830211, 'gamma': 1.45596169088226, 'psi': 0}. Best is trial 8 with value: -0.8924050632911392.\n"
          ]
        },
        {
          "output_type": "stream",
          "name": "stdout",
          "text": [
            "\u001b[1m25/25\u001b[0m \u001b[32m━━━━━━━━━━━━━━━━━━━━\u001b[0m\u001b[37m\u001b[0m \u001b[1m3s\u001b[0m 92ms/step\n"
          ]
        },
        {
          "output_type": "stream",
          "name": "stderr",
          "text": [
            "[I 2024-09-12 04:27:37,703] Trial 12 finished with value: -0.8280254777070064 and parameters: {'kernel_size': (11, 11), 'sigma': 5.059801753049256, 'theta': 90, 'lambda_': 2.9661153306058705, 'gamma': 1.5016225850914582, 'psi': 60}. Best is trial 8 with value: -0.8924050632911392.\n"
          ]
        },
        {
          "output_type": "stream",
          "name": "stdout",
          "text": [
            "\u001b[1m25/25\u001b[0m \u001b[32m━━━━━━━━━━━━━━━━━━━━\u001b[0m\u001b[37m\u001b[0m \u001b[1m2s\u001b[0m 55ms/step\n"
          ]
        },
        {
          "output_type": "stream",
          "name": "stderr",
          "text": [
            "[I 2024-09-12 04:40:23,021] Trial 13 finished with value: -0.8724489795918368 and parameters: {'kernel_size': (11, 11), 'sigma': 9.752920815290551, 'theta': 90, 'lambda_': 2.741585042043635, 'gamma': 1.1328210606945204, 'psi': 75}. Best is trial 8 with value: -0.8924050632911392.\n"
          ]
        },
        {
          "output_type": "stream",
          "name": "stdout",
          "text": [
            "\u001b[1m25/25\u001b[0m \u001b[32m━━━━━━━━━━━━━━━━━━━━\u001b[0m\u001b[37m\u001b[0m \u001b[1m4s\u001b[0m 122ms/step\n"
          ]
        },
        {
          "output_type": "stream",
          "name": "stderr",
          "text": [
            "[I 2024-09-12 04:53:00,392] Trial 14 finished with value: -0.851145038167939 and parameters: {'kernel_size': (11, 11), 'sigma': 6.3348255566946445, 'theta': 30, 'lambda_': 6.258114136384048, 'gamma': 1.3174963265791437, 'psi': 0}. Best is trial 8 with value: -0.8924050632911392.\n"
          ]
        },
        {
          "output_type": "stream",
          "name": "stdout",
          "text": [
            "\u001b[1m25/25\u001b[0m \u001b[32m━━━━━━━━━━━━━━━━━━━━\u001b[0m\u001b[37m\u001b[0m \u001b[1m2s\u001b[0m 55ms/step\n"
          ]
        },
        {
          "output_type": "stream",
          "name": "stderr",
          "text": [
            "[I 2024-09-12 05:05:35,256] Trial 15 finished with value: -0.8360864040660737 and parameters: {'kernel_size': (7, 7), 'sigma': 8.335708876239508, 'theta': 60, 'lambda_': 3.966324206889052, 'gamma': 1.6138636505170825, 'psi': 60}. Best is trial 8 with value: -0.8924050632911392.\n"
          ]
        }
      ]
    },
    {
      "cell_type": "markdown",
      "metadata": {
        "id": "Ld2NXgEtxa2N"
      },
      "source": [
        "Model 2"
      ]
    },
    {
      "cell_type": "code",
      "execution_count": null,
      "metadata": {
        "id": "3NuCU_7nxdOK"
      },
      "outputs": [],
      "source": [
        "import optuna\n",
        "import cv2\n",
        "import numpy as np\n",
        "\n",
        "class GaborFilterTuner:\n",
        "    def __init__(self, train_ds, val_ds):\n",
        "        self.train_ds = train_ds\n",
        "        self.val_ds = val_ds\n",
        "\n",
        "    def apply_gabor_filter(self, img, kernel_size, sigma, theta, lambda_, gamma, psi):\n",
        "        # Apply Gabor filter to the image\n",
        "        if img.ndim == 2:  # Check if the image is already grayscale\n",
        "            img_gray = img\n",
        "        else:  # Convert image to grayscale before applying the filter\n",
        "            img_gray = cv2.cvtColor(img, cv2.COLOR_BGR2GRAY)\n",
        "\n",
        "        g_kernel = cv2.getGaborKernel(kernel_size, sigma, theta, lambda_, gamma, psi, ktype=cv2.CV_32F)\n",
        "        filtered_img = cv2.filter2D(img_gray, -1, g_kernel)\n",
        "        return filtered_img\n",
        "\n",
        "    def objective(self, trial):\n",
        "        kernel_size = trial.suggest_categorical('kernel_size', [(3, 3), (5, 5), (7, 7), (9, 9), (11, 11)])\n",
        "        sigma = trial.suggest_float('sigma', 1.0, 10.0)\n",
        "        theta = trial.suggest_categorical('theta', [0, 15, 30, 45, 60, 75, 90])\n",
        "        lambda_ = trial.suggest_float('lambda_', 1.0, 10.0)\n",
        "        gamma = trial.suggest_float('gamma', 0.5, 2.0)\n",
        "        psi = trial.suggest_categorical('psi', [0, 15, 30, 45, 60, 75, 90])\n",
        "\n",
        "        # Apply Gabor filter to the training and validation data\n",
        "        X_train_pairs, y_train_pairs = [], []\n",
        "        y_train_labels = []\n",
        "        X_val_pairs, y_val_pairs = [], []\n",
        "        all_images = []\n",
        "        all_labels = []\n",
        "\n",
        "        for batch in train_ds:\n",
        "            images, labels = batch\n",
        "            all_images.extend(images)\n",
        "            all_labels.extend(labels)\n",
        "\n",
        "        for i in range(len(all_images)):\n",
        "            img_A_org, label_A = all_images[i], all_labels[i]\n",
        "            img_A = self.apply_gabor_filter(img_A_org.numpy(), kernel_size, sigma, theta, lambda_, gamma, psi)\n",
        "            #print(\"A is: \" ,all_labels[i])\n",
        "\n",
        "            num = 0\n",
        "\n",
        "            # Create pairs with other images\n",
        "            for j in range(i, len(all_images)):\n",
        "                img_B_org, label_B = all_images[j], all_labels[j]\n",
        "                img_B = self.apply_gabor_filter(img_B_org.numpy(), kernel_size, sigma, theta, lambda_, gamma, psi)\n",
        "                #print(\"B is: \" ,all_labels[j])\n",
        "                if label_A == label_B:\n",
        "                    new_label = 1  # same class, label is 1\n",
        "                    X_train_pairs.append([img_A, img_B])\n",
        "                    y_train_pairs.append(new_label)\n",
        "                    X_train_pairs.append([img_A, img_B])\n",
        "                    y_train_pairs.append(new_label)\n",
        "                    X_train_pairs.append([img_A, img_B])\n",
        "                    y_train_pairs.append(new_label)\n",
        "                    X_train_pairs.append([img_A, img_B])\n",
        "                    y_train_pairs.append(new_label)\n",
        "                    X_train_pairs.append([img_A, img_B])\n",
        "                    y_train_pairs.append(new_label)\n",
        "                else:\n",
        "                    new_label = 0  # different class, label is 0\n",
        "\n",
        "                    if num==0 or num==1 or num==2:\n",
        "                      num+=1\n",
        "                    elif num==3:\n",
        "                      num-=3\n",
        "                      X_train_pairs.append([img_A, img_B])\n",
        "                      y_train_pairs.append(new_label)\n",
        "\n",
        "\n",
        "        all_images = []\n",
        "        all_labels = []\n",
        "\n",
        "        for batch in val_ds:\n",
        "            images, labels = batch\n",
        "            all_images.extend(images)\n",
        "            all_labels.extend(labels)\n",
        "\n",
        "        for i in range(len(all_images)):\n",
        "            img_A_org, label_A = all_images[i], all_labels[i]\n",
        "            img_A = self.apply_gabor_filter(img_A_org.numpy(), kernel_size, sigma, theta, lambda_, gamma, psi)\n",
        "\n",
        "            num=0\n",
        "\n",
        "            # Create pairs with other images ( non-identical pairs )\n",
        "            for j in range(i, len(all_images)):\n",
        "                img_B_org, label_B = all_images[j], all_labels[j]\n",
        "                img_B = self.apply_gabor_filter(img_B_org.numpy(), kernel_size, sigma, theta, lambda_, gamma, psi)\n",
        "                new_label = int(label_A == label_B)\n",
        "                #print(new_label)\n",
        "                if label_A == label_B:\n",
        "                    new_label = 1  # same class, label is 1\n",
        "                    X_val_pairs.append([img_B, img_A])\n",
        "                    y_val_pairs.append(new_label)\n",
        "                    X_val_pairs.append([img_B, img_A])\n",
        "                    y_val_pairs.append(new_label)\n",
        "                else:\n",
        "                    new_label = 0  # different class, label is 0\n",
        "\n",
        "                    if num==0 or num==1 or num==2:\n",
        "                      num+=1\n",
        "                    elif num==3:\n",
        "                      num-=3\n",
        "                      X_val_pairs.append([img_A, img_B])\n",
        "                      y_val_pairs.append(new_label)\n",
        "\n",
        "\n",
        "        X_train_pairs = np.array(X_train_pairs)\n",
        "        y_train_pairs = np.array(y_train_pairs)\n",
        "        X_val_pairs = np.array(X_val_pairs)\n",
        "        y_val_pairs = np.array(y_val_pairs)\n",
        "\n",
        "        X_train_pairs_A = X_train_pairs[:, 0, :, :]  # shape: (619, 256, 256)\n",
        "        X_train_pairs_B = X_train_pairs[:, 1, :, :]  # shape: (619, 256, 256)\n",
        "        X_val_pairs_A = X_val_pairs[:, 0, :, :]  # shape: (619, 256, 256)\n",
        "        X_val_pairs_B = X_val_pairs[:, 1, :, :]  # shape: (619, 256, 256)\n",
        "\n",
        "        # Create the network\n",
        "        img_height = 256\n",
        "        img_width = 256\n",
        "        dim = 128\n",
        "        chan = 4\n",
        "\n",
        "        img_A_inp = Input((img_height, img_width, 1), name='img_A_inp')\n",
        "        img_A_reshaped = Reshape((dim, dim, chan))(img_A_inp)\n",
        "\n",
        "        img_B_inp = Input((img_height, img_width, 1), name='img_B_inp')\n",
        "        img_B_reshaped = Reshape((dim, dim, chan))(img_B_inp)\n",
        "\n",
        "        def get_cnn_block(depth, size):\n",
        "            return Sequential([\n",
        "                Conv2D(depth, size, 1, padding='same'),\n",
        "                BatchNormalization(),\n",
        "                Activation('relu'),\n",
        "                MaxPooling2D(),\n",
        "                Dropout(0.2)\n",
        "            ])\n",
        "\n",
        "        DEPTH = 32\n",
        "\n",
        "        cnn1 = Sequential([\n",
        "            get_cnn_block(DEPTH, 3),\n",
        "            get_cnn_block(DEPTH*2, 3),\n",
        "            # MaxPooling2D(pool_size=(2, 2))\n",
        "        ])\n",
        "        cnn2 = Sequential([\n",
        "            get_cnn_block(DEPTH, 5),\n",
        "            get_cnn_block(DEPTH*2, 5),\n",
        "            # MaxPooling2D(pool_size=(2, 2))\n",
        "        ])\n",
        "        cnn3 = Sequential([\n",
        "            get_cnn_block(DEPTH, 7),\n",
        "            get_cnn_block(DEPTH*2, 7),\n",
        "            # MaxPooling2D(pool_size=(2, 2))\n",
        "        ])\n",
        "\n",
        "        feature_vector_A1 = cnn1(img_A_reshaped)\n",
        "        feature_vector_A2 = cnn2(img_A_reshaped)\n",
        "        feature_vector_A3 = cnn3(img_A_reshaped)\n",
        "\n",
        "        feature_vector_A = Concatenate()([feature_vector_A1, feature_vector_A2, feature_vector_A3])\n",
        "\n",
        "        feature_vector_B1 = cnn1(img_B_reshaped)\n",
        "        feature_vector_B2 = cnn2(img_B_reshaped)\n",
        "        feature_vector_B3 = cnn3(img_B_reshaped)\n",
        "\n",
        "        feature_vector_B = Concatenate()([feature_vector_B1, feature_vector_B2, feature_vector_B3])\n",
        "\n",
        "        cnn = Sequential([\n",
        "            GlobalAveragePooling2D(),\n",
        "            Flatten(),\n",
        "            Dense(64, activation='relu'),\n",
        "        ])\n",
        "\n",
        "        feature_vector_A = cnn(feature_vector_A)\n",
        "        feature_vector_B = cnn(feature_vector_B)\n",
        "\n",
        "        concat = Concatenate()([feature_vector_A, feature_vector_B])\n",
        "\n",
        "        dense = Dense(64, activation='relu')(concat)\n",
        "        output = Dense(2, activation='softmax')(dense)\n",
        "\n",
        "        model = Model(inputs=[img_A_inp, img_B_inp], outputs=output)\n",
        "\n",
        "        # Compile the model\n",
        "        model.compile(optimizer='adam', loss='categorical_crossentropy', metrics=['accuracy'])\n",
        "\n",
        "        # Train the model\n",
        "        model.fit([X_train_pairs_A, X_train_pairs_B], tf.keras.utils.to_categorical(y_train_pairs, num_classes=2), epochs=30, batch_size=8, verbose=0)\n",
        "\n",
        "        # Evaluate the model\n",
        "        y_pred = model.predict([X_val_pairs_A, X_val_pairs_B])\n",
        "        y_pred_class = np.argmax(y_pred, axis=1)\n",
        "        accuracy = np.mean(y_pred_class == y_val_pairs)\n",
        "\n",
        "        return -accuracy\n",
        "\n",
        "    def tune_hyperparameters(self, n_trials=50):\n",
        "        study = optuna.create_study(direction='minimize', pruner=MedianPruner())\n",
        "        study.optimize(self.objective, n_trials=n_trials)\n",
        "        best_trial = study.best_trial\n",
        "        best_params = best_trial.params\n",
        "        best_accuracy = -best_trial.value\n",
        "        return best_params, best_accuracy\n",
        "\n"
      ]
    },
    {
      "cell_type": "code",
      "source": [
        "from optuna.pruners import MedianPruner\n",
        "# Set the verbosity level to INFO\n",
        "optuna.logging.set_verbosity(optuna.logging.DEBUG)\n",
        "\n",
        "# Create an instance of the GaborFilterTuner class\n",
        "tuner = GaborFilterTuner(train_ds, val_ds)\n",
        "\n",
        "# Tune the hyperparameters\n",
        "best_params, best_accuracy = tuner.tune_hyperparameters(n_trials=20)\n",
        "\n",
        "print(\"Best parameters:\", best_params)\n",
        "print(\"Best accuracy:\", best_accuracy)"
      ],
      "metadata": {
        "colab": {
          "base_uri": "https://localhost:8080/"
        },
        "id": "noiCHw6ZF37e",
        "outputId": "19058f0b-6fb2-441c-ec62-5c994ab1c735"
      },
      "execution_count": null,
      "outputs": [
        {
          "output_type": "stream",
          "name": "stderr",
          "text": [
            "[I 2024-09-10 08:40:54,882] A new study created in memory with name: no-name-5bb2e843-92fa-4d20-b856-b4b8403d23d4\n",
            "/usr/local/lib/python3.10/dist-packages/optuna/distributions.py:524: UserWarning: Choices for a categorical distribution should be a tuple of None, bool, int, float and str for persistent storage but contains (3, 3) which is of type tuple.\n",
            "  warnings.warn(message)\n",
            "/usr/local/lib/python3.10/dist-packages/optuna/distributions.py:524: UserWarning: Choices for a categorical distribution should be a tuple of None, bool, int, float and str for persistent storage but contains (5, 5) which is of type tuple.\n",
            "  warnings.warn(message)\n",
            "/usr/local/lib/python3.10/dist-packages/optuna/distributions.py:524: UserWarning: Choices for a categorical distribution should be a tuple of None, bool, int, float and str for persistent storage but contains (7, 7) which is of type tuple.\n",
            "  warnings.warn(message)\n",
            "/usr/local/lib/python3.10/dist-packages/optuna/distributions.py:524: UserWarning: Choices for a categorical distribution should be a tuple of None, bool, int, float and str for persistent storage but contains (9, 9) which is of type tuple.\n",
            "  warnings.warn(message)\n",
            "/usr/local/lib/python3.10/dist-packages/optuna/distributions.py:524: UserWarning: Choices for a categorical distribution should be a tuple of None, bool, int, float and str for persistent storage but contains (11, 11) which is of type tuple.\n",
            "  warnings.warn(message)\n"
          ]
        },
        {
          "output_type": "stream",
          "name": "stdout",
          "text": [
            "\u001b[1m25/25\u001b[0m \u001b[32m━━━━━━━━━━━━━━━━━━━━\u001b[0m\u001b[37m\u001b[0m \u001b[1m5s\u001b[0m 115ms/step\n"
          ]
        },
        {
          "output_type": "stream",
          "name": "stderr",
          "text": [
            "[I 2024-09-10 08:48:40,069] Trial 0 finished with value: -0.8398983481575604 and parameters: {'kernel_size': (11, 11), 'sigma': 1.884211916071171, 'theta': 75, 'lambda_': 3.191836964278021, 'gamma': 1.2144954916173114, 'psi': 30}. Best is trial 0 with value: -0.8398983481575604.\n"
          ]
        },
        {
          "output_type": "stream",
          "name": "stdout",
          "text": [
            "\u001b[1m25/25\u001b[0m \u001b[32m━━━━━━━━━━━━━━━━━━━━\u001b[0m\u001b[37m\u001b[0m \u001b[1m4s\u001b[0m 105ms/step\n"
          ]
        },
        {
          "output_type": "stream",
          "name": "stderr",
          "text": [
            "[I 2024-09-10 08:56:03,488] Trial 1 finished with value: -0.7729591836734694 and parameters: {'kernel_size': (11, 11), 'sigma': 8.089736497323775, 'theta': 90, 'lambda_': 5.957348392845492, 'gamma': 1.5701448561889266, 'psi': 15}. Best is trial 0 with value: -0.8398983481575604.\n"
          ]
        },
        {
          "output_type": "stream",
          "name": "stdout",
          "text": [
            "\u001b[1m25/25\u001b[0m \u001b[32m━━━━━━━━━━━━━━━━━━━━\u001b[0m\u001b[37m\u001b[0m \u001b[1m3s\u001b[0m 77ms/step\n"
          ]
        },
        {
          "output_type": "stream",
          "name": "stderr",
          "text": [
            "[I 2024-09-10 09:03:22,413] Trial 2 finished with value: -0.8686224489795918 and parameters: {'kernel_size': (9, 9), 'sigma': 4.557354104667532, 'theta': 90, 'lambda_': 2.3859722471483504, 'gamma': 1.9624982157242248, 'psi': 60}. Best is trial 2 with value: -0.8686224489795918.\n"
          ]
        },
        {
          "output_type": "stream",
          "name": "stdout",
          "text": [
            "\u001b[1m25/25\u001b[0m \u001b[32m━━━━━━━━━━━━━━━━━━━━\u001b[0m\u001b[37m\u001b[0m \u001b[1m4s\u001b[0m 105ms/step\n"
          ]
        },
        {
          "output_type": "stream",
          "name": "stderr",
          "text": [
            "[I 2024-09-10 09:10:33,787] Trial 3 finished with value: -0.8439897698209718 and parameters: {'kernel_size': (5, 5), 'sigma': 5.825332063528382, 'theta': 30, 'lambda_': 9.74335387137409, 'gamma': 1.0508635871363075, 'psi': 45}. Best is trial 2 with value: -0.8686224489795918.\n"
          ]
        },
        {
          "output_type": "stream",
          "name": "stdout",
          "text": [
            "\u001b[1m25/25\u001b[0m \u001b[32m━━━━━━━━━━━━━━━━━━━━\u001b[0m\u001b[37m\u001b[0m \u001b[1m3s\u001b[0m 75ms/step\n"
          ]
        },
        {
          "output_type": "stream",
          "name": "stderr",
          "text": [
            "[I 2024-09-10 09:17:40,383] Trial 4 finished with value: -0.8354591836734694 and parameters: {'kernel_size': (9, 9), 'sigma': 4.593628946746825, 'theta': 75, 'lambda_': 3.549781575933666, 'gamma': 1.5073745013096544, 'psi': 30}. Best is trial 2 with value: -0.8686224489795918.\n"
          ]
        },
        {
          "output_type": "stream",
          "name": "stdout",
          "text": [
            "\u001b[1m25/25\u001b[0m \u001b[32m━━━━━━━━━━━━━━━━━━━━\u001b[0m\u001b[37m\u001b[0m \u001b[1m4s\u001b[0m 113ms/step\n"
          ]
        },
        {
          "output_type": "stream",
          "name": "stderr",
          "text": [
            "[I 2024-09-10 09:24:51,646] Trial 5 finished with value: -0.8477157360406091 and parameters: {'kernel_size': (3, 3), 'sigma': 8.287757677058917, 'theta': 90, 'lambda_': 3.429677489330401, 'gamma': 1.0139358326981964, 'psi': 90}. Best is trial 2 with value: -0.8686224489795918.\n"
          ]
        },
        {
          "output_type": "stream",
          "name": "stdout",
          "text": [
            "\u001b[1m25/25\u001b[0m \u001b[32m━━━━━━━━━━━━━━━━━━━━\u001b[0m\u001b[37m\u001b[0m \u001b[1m3s\u001b[0m 74ms/step\n"
          ]
        },
        {
          "output_type": "stream",
          "name": "stderr",
          "text": [
            "[I 2024-09-10 09:31:55,995] Trial 6 finished with value: -0.8290816326530612 and parameters: {'kernel_size': (9, 9), 'sigma': 9.986381394823825, 'theta': 30, 'lambda_': 8.959002304610866, 'gamma': 1.5752805781940191, 'psi': 75}. Best is trial 2 with value: -0.8686224489795918.\n"
          ]
        },
        {
          "output_type": "stream",
          "name": "stdout",
          "text": [
            "\u001b[1m25/25\u001b[0m \u001b[32m━━━━━━━━━━━━━━━━━━━━\u001b[0m\u001b[37m\u001b[0m \u001b[1m4s\u001b[0m 106ms/step\n"
          ]
        },
        {
          "output_type": "stream",
          "name": "stderr",
          "text": [
            "[I 2024-09-10 09:39:00,958] Trial 7 finished with value: -0.8326947637292464 and parameters: {'kernel_size': (3, 3), 'sigma': 5.612691120871677, 'theta': 60, 'lambda_': 7.762057368260951, 'gamma': 1.7440525470266484, 'psi': 90}. Best is trial 2 with value: -0.8686224489795918.\n"
          ]
        },
        {
          "output_type": "stream",
          "name": "stdout",
          "text": [
            "\u001b[1m25/25\u001b[0m \u001b[32m━━━━━━━━━━━━━━━━━━━━\u001b[0m\u001b[37m\u001b[0m \u001b[1m4s\u001b[0m 117ms/step\n"
          ]
        },
        {
          "output_type": "stream",
          "name": "stderr",
          "text": [
            "[I 2024-09-10 09:46:26,892] Trial 8 finished with value: -0.8050632911392405 and parameters: {'kernel_size': (11, 11), 'sigma': 3.0122629638576868, 'theta': 15, 'lambda_': 6.2148214573867, 'gamma': 1.7982430736460528, 'psi': 60}. Best is trial 2 with value: -0.8686224489795918.\n"
          ]
        },
        {
          "output_type": "stream",
          "name": "stdout",
          "text": [
            "\u001b[1m25/25\u001b[0m \u001b[32m━━━━━━━━━━━━━━━━━━━━\u001b[0m\u001b[37m\u001b[0m \u001b[1m3s\u001b[0m 76ms/step\n"
          ]
        },
        {
          "output_type": "stream",
          "name": "stderr",
          "text": [
            "[I 2024-09-10 09:53:35,310] Trial 9 finished with value: -0.8582375478927203 and parameters: {'kernel_size': (3, 3), 'sigma': 3.53812171719518, 'theta': 30, 'lambda_': 5.60987019217624, 'gamma': 1.4188534941073498, 'psi': 45}. Best is trial 2 with value: -0.8686224489795918.\n"
          ]
        },
        {
          "output_type": "stream",
          "name": "stdout",
          "text": [
            "\u001b[1m25/25\u001b[0m \u001b[32m━━━━━━━━━━━━━━━━━━━━\u001b[0m\u001b[37m\u001b[0m \u001b[1m5s\u001b[0m 117ms/step\n"
          ]
        },
        {
          "output_type": "stream",
          "name": "stderr",
          "text": [
            "[I 2024-09-10 10:00:57,239] Trial 10 finished with value: -0.8225602027883396 and parameters: {'kernel_size': (7, 7), 'sigma': 1.678800607389157, 'theta': 0, 'lambda_': 1.2777411964054783, 'gamma': 0.5185707453626229, 'psi': 0}. Best is trial 2 with value: -0.8686224489795918.\n"
          ]
        },
        {
          "output_type": "stream",
          "name": "stdout",
          "text": [
            "\u001b[1m25/25\u001b[0m \u001b[32m━━━━━━━━━━━━━━━━━━━━\u001b[0m\u001b[37m\u001b[0m \u001b[1m3s\u001b[0m 78ms/step\n"
          ]
        },
        {
          "output_type": "stream",
          "name": "stderr",
          "text": [
            "[I 2024-09-10 10:08:22,845] Trial 11 finished with value: -0.8439897698209718 and parameters: {'kernel_size': (3, 3), 'sigma': 3.923630137559805, 'theta': 45, 'lambda_': 4.63651837846536, 'gamma': 1.9270697063225724, 'psi': 60}. Best is trial 2 with value: -0.8686224489795918.\n"
          ]
        },
        {
          "output_type": "stream",
          "name": "stdout",
          "text": [
            "\u001b[1m25/25\u001b[0m \u001b[32m━━━━━━━━━━━━━━━━━━━━\u001b[0m\u001b[37m\u001b[0m \u001b[1m4s\u001b[0m 114ms/step\n"
          ]
        },
        {
          "output_type": "stream",
          "name": "stderr",
          "text": [
            "[I 2024-09-10 10:15:52,784] Trial 12 finished with value: -0.8636942675159236 and parameters: {'kernel_size': (9, 9), 'sigma': 3.2668732292713702, 'theta': 90, 'lambda_': 1.696393136319406, 'gamma': 0.7343673224673212, 'psi': 45}. Best is trial 2 with value: -0.8686224489795918.\n"
          ]
        },
        {
          "output_type": "stream",
          "name": "stdout",
          "text": [
            "\u001b[1m25/25\u001b[0m \u001b[32m━━━━━━━━━━━━━━━━━━━━\u001b[0m\u001b[37m\u001b[0m \u001b[1m3s\u001b[0m 77ms/step\n"
          ]
        },
        {
          "output_type": "stream",
          "name": "stderr",
          "text": [
            "[I 2024-09-10 10:23:12,056] Trial 13 finished with value: -0.8852040816326531 and parameters: {'kernel_size': (9, 9), 'sigma': 6.160567919031775, 'theta': 90, 'lambda_': 1.1222942692597826, 'gamma': 0.6530346050766683, 'psi': 60}. Best is trial 13 with value: -0.8852040816326531.\n"
          ]
        },
        {
          "output_type": "stream",
          "name": "stdout",
          "text": [
            "\u001b[1m25/25\u001b[0m \u001b[32m━━━━━━━━━━━━━━━━━━━━\u001b[0m\u001b[37m\u001b[0m \u001b[1m4s\u001b[0m 114ms/step\n"
          ]
        },
        {
          "output_type": "stream",
          "name": "stderr",
          "text": [
            "[I 2024-09-10 10:30:36,367] Trial 14 finished with value: -0.8638676844783715 and parameters: {'kernel_size': (9, 9), 'sigma': 6.7190702639067545, 'theta': 90, 'lambda_': 2.223424539084424, 'gamma': 0.777190397711084, 'psi': 60}. Best is trial 13 with value: -0.8852040816326531.\n"
          ]
        },
        {
          "output_type": "stream",
          "name": "stdout",
          "text": [
            "\u001b[1m25/25\u001b[0m \u001b[32m━━━━━━━━━━━━━━━━━━━━\u001b[0m\u001b[37m\u001b[0m \u001b[1m3s\u001b[0m 78ms/step\n"
          ]
        },
        {
          "output_type": "stream",
          "name": "stderr",
          "text": [
            "[I 2024-09-10 10:38:00,355] Trial 15 finished with value: -0.8513341804320204 and parameters: {'kernel_size': (9, 9), 'sigma': 7.2024392136616635, 'theta': 90, 'lambda_': 1.002520635212041, 'gamma': 0.5349114331654974, 'psi': 60}. Best is trial 13 with value: -0.8852040816326531.\n"
          ]
        },
        {
          "output_type": "stream",
          "name": "stdout",
          "text": [
            "\u001b[1m25/25\u001b[0m \u001b[32m━━━━━━━━━━━━━━━━━━━━\u001b[0m\u001b[37m\u001b[0m \u001b[1m3s\u001b[0m 81ms/step\n"
          ]
        },
        {
          "output_type": "stream",
          "name": "stderr",
          "text": [
            "[I 2024-09-10 10:45:22,311] Trial 16 finished with value: -0.8386277001270648 and parameters: {'kernel_size': (7, 7), 'sigma': 5.222827826016452, 'theta': 45, 'lambda_': 2.5219987686396674, 'gamma': 1.2344673744229366, 'psi': 60}. Best is trial 13 with value: -0.8852040816326531.\n"
          ]
        },
        {
          "output_type": "stream",
          "name": "stdout",
          "text": [
            "\u001b[1m25/25\u001b[0m \u001b[32m━━━━━━━━━━━━━━━━━━━━\u001b[0m\u001b[37m\u001b[0m \u001b[1m4s\u001b[0m 106ms/step\n"
          ]
        },
        {
          "output_type": "stream",
          "name": "stderr",
          "text": [
            "[I 2024-09-10 10:52:35,582] Trial 17 finished with value: -0.8629961587708067 and parameters: {'kernel_size': (5, 5), 'sigma': 6.524166087550657, 'theta': 60, 'lambda_': 4.492769910794428, 'gamma': 0.893571355563889, 'psi': 15}. Best is trial 13 with value: -0.8852040816326531.\n"
          ]
        },
        {
          "output_type": "stream",
          "name": "stdout",
          "text": [
            "\u001b[1m25/25\u001b[0m \u001b[32m━━━━━━━━━━━━━━━━━━━━\u001b[0m\u001b[37m\u001b[0m \u001b[1m3s\u001b[0m 76ms/step\n"
          ]
        },
        {
          "output_type": "stream",
          "name": "stderr",
          "text": [
            "[I 2024-09-10 11:00:03,233] Trial 18 finished with value: -0.861850443599493 and parameters: {'kernel_size': (9, 9), 'sigma': 4.8177100483737325, 'theta': 0, 'lambda_': 2.5270435363530686, 'gamma': 1.9698910586102878, 'psi': 0}. Best is trial 13 with value: -0.8852040816326531.\n"
          ]
        },
        {
          "output_type": "stream",
          "name": "stdout",
          "text": [
            "\u001b[1m25/25\u001b[0m \u001b[32m━━━━━━━━━━━━━━━━━━━━\u001b[0m\u001b[37m\u001b[0m \u001b[1m3s\u001b[0m 77ms/step\n"
          ]
        },
        {
          "output_type": "stream",
          "name": "stderr",
          "text": [
            "[I 2024-09-10 11:07:28,168] Trial 19 finished with value: -0.8486005089058524 and parameters: {'kernel_size': (9, 9), 'sigma': 8.158386333089185, 'theta': 15, 'lambda_': 4.4045715226407784, 'gamma': 1.3746980317007038, 'psi': 75}. Best is trial 13 with value: -0.8852040816326531.\n"
          ]
        },
        {
          "output_type": "stream",
          "name": "stdout",
          "text": [
            "Best parameters: {'kernel_size': (9, 9), 'sigma': 6.160567919031775, 'theta': 90, 'lambda_': 1.1222942692597826, 'gamma': 0.6530346050766683, 'psi': 60}\n",
            "Best accuracy: 0.8852040816326531\n"
          ]
        }
      ]
    },
    {
      "cell_type": "markdown",
      "metadata": {
        "id": "zUmsI95u1DG3"
      },
      "source": [
        "Model 3"
      ]
    },
    {
      "cell_type": "code",
      "execution_count": null,
      "metadata": {
        "id": "_dyGqmODvShI"
      },
      "outputs": [],
      "source": [
        "import optuna\n",
        "import cv2\n",
        "import numpy as np\n",
        "\n",
        "class GaborFilterTuner:\n",
        "    def __init__(self, train_ds, val_ds):\n",
        "        self.train_ds = train_ds\n",
        "        self.val_ds = val_ds\n",
        "\n",
        "    def apply_gabor_filter(self, img, kernel_size, sigma, theta, lambda_, gamma, psi):\n",
        "        # Apply Gabor filter to the image\n",
        "        if img.ndim == 2:  # Check if the image is already grayscale\n",
        "            img_gray = img\n",
        "        else:  # Convert image to grayscale before applying the filter\n",
        "            img_gray = cv2.cvtColor(img, cv2.COLOR_BGR2GRAY)\n",
        "\n",
        "        g_kernel = cv2.getGaborKernel(kernel_size, sigma, theta, lambda_, gamma, psi, ktype=cv2.CV_32F)\n",
        "        filtered_img = cv2.filter2D(img_gray, -1, g_kernel)\n",
        "        return filtered_img\n",
        "\n",
        "    def objective(self, trial):\n",
        "        kernel_size = trial.suggest_categorical('kernel_size', [(3, 3), (5, 5), (7, 7), (9, 9), (11, 11)])\n",
        "        sigma = trial.suggest_float('sigma', 1.0, 10.0)\n",
        "        theta = trial.suggest_categorical('theta', [0, 15, 30, 45, 60, 75, 90])\n",
        "        lambda_ = trial.suggest_float('lambda_', 1.0, 10.0)\n",
        "        gamma = trial.suggest_float('gamma', 0.5, 2.0)\n",
        "        psi = trial.suggest_categorical('psi', [0, 15, 30, 45, 60, 75, 90])\n",
        "\n",
        "        X_train_pairs, y_train_pairs = [], []\n",
        "        y_train_labels = []\n",
        "        X_val_pairs, y_val_pairs = [], []\n",
        "        all_images = []\n",
        "        all_labels = []\n",
        "\n",
        "        for batch in train_ds:\n",
        "            images, labels = batch\n",
        "            all_images.extend(images)\n",
        "            all_labels.extend(labels)\n",
        "\n",
        "        for i in range(len(all_images)):\n",
        "            img_A_org, label_A = all_images[i], all_labels[i]\n",
        "            #img_A = enhance_contrast(img_A_org.numpy())\n",
        "            img_A = self.apply_gabor_filter(img_A_org.numpy(), kernel_size, sigma, theta, lambda_, gamma, psi)\n",
        "            #print(\"A is: \" ,all_labels[i])\n",
        "\n",
        "            num = 0\n",
        "\n",
        "            # Create pairs with other images\n",
        "            for j in range(i, len(all_images)):\n",
        "                img_B_org, label_B = all_images[j], all_labels[j]\n",
        "                img_B = self.apply_gabor_filter(img_B_org.numpy(), kernel_size, sigma, theta, lambda_, gamma, psi)\n",
        "                #print(\"B is: \" ,all_labels[j])\n",
        "                if label_A == label_B:\n",
        "                    new_label = 1  # same class, label is 1\n",
        "                    X_train_pairs.append([img_B, img_A])\n",
        "                    y_train_pairs.append(new_label)\n",
        "                    X_train_pairs.append([img_A, img_B])\n",
        "                    y_train_pairs.append(new_label)\n",
        "                    X_train_pairs.append([img_A, img_B])\n",
        "                    y_train_pairs.append(new_label)\n",
        "                    X_train_pairs.append([img_A, img_B])\n",
        "                    y_train_pairs.append(new_label)\n",
        "                    X_train_pairs.append([img_A, img_B])\n",
        "                    y_train_pairs.append(new_label)\n",
        "\n",
        "                else:\n",
        "                    new_label = 0  # different class, label is 0\n",
        "\n",
        "                    if num==0 or num==1 or num==2:\n",
        "                      num+=1\n",
        "                    elif num==3:\n",
        "                      num-=3\n",
        "                      X_train_pairs.append([img_A, img_B])\n",
        "                      y_train_pairs.append(new_label)\n",
        "\n",
        "\n",
        "        all_images = []\n",
        "        all_labels = []\n",
        "\n",
        "        for batch in val_ds:\n",
        "            images, labels = batch\n",
        "            all_images.extend(images)\n",
        "            all_labels.extend(labels)\n",
        "\n",
        "        for i in range(len(all_images)):\n",
        "            img_A_org, label_A = all_images[i], all_labels[i]\n",
        "            img_A = self.apply_gabor_filter(img_A_org.numpy(), kernel_size, sigma, theta, lambda_, gamma, psi)\n",
        "\n",
        "            num=0\n",
        "\n",
        "            # Create pairs with other images ( non-identical pairs )\n",
        "            for j in range(i, len(all_images)):\n",
        "                img_B_org, label_B = all_images[j], all_labels[j]\n",
        "                img_B = self.apply_gabor_filter(img_B_org.numpy(),kernel_size, sigma, theta, lambda_, gamma, psi)\n",
        "                new_label = int(label_A == label_B)\n",
        "                #print(new_label)\n",
        "                if label_A == label_B:\n",
        "                    new_label = 1  # same class, label is 1\n",
        "                    X_val_pairs.append([img_B, img_A])\n",
        "                    y_val_pairs.append(new_label)\n",
        "                    X_val_pairs.append([img_B, img_A])\n",
        "                    y_val_pairs.append(new_label)\n",
        "                else:\n",
        "                    new_label = 0  # different class, label is 0\n",
        "\n",
        "                    if num==0 or num==1 or num==2:\n",
        "                      num+=1\n",
        "                    elif num==3:\n",
        "                      num-=3\n",
        "                      X_val_pairs.append([img_A, img_B])\n",
        "                      y_val_pairs.append(new_label)\n",
        "\n",
        "        X_train_pairs = np.array(X_train_pairs)\n",
        "        y_train_pairs = np.array(y_train_pairs)\n",
        "        X_val_pairs = np.array(X_val_pairs)\n",
        "        y_val_pairs = np.array(y_val_pairs)\n",
        "\n",
        "        X_train_pairs_A = X_train_pairs[:, 0, :, :]  # shape: (619, 256, 256)\n",
        "        X_train_pairs_B = X_train_pairs[:, 1, :, :]  # shape: (619, 256, 256)\n",
        "        X_val_pairs_A = X_val_pairs[:, 0, :, :]  # shape: (619, 256, 256)\n",
        "        X_val_pairs_B = X_val_pairs[:, 1, :, :]  # shape: (619, 256, 256)\n",
        "\n",
        "        # Create the network\n",
        "        img_height = 256\n",
        "        img_width = 256\n",
        "        dim = 128\n",
        "        chan = 4\n",
        "\n",
        "        img_A_inp = Input((img_height, img_width, 1), name='img_A_inp')\n",
        "        img_A_reshaped = Reshape((dim, dim, chan))(img_A_inp)\n",
        "\n",
        "        img_B_inp = Input((img_height, img_width, 1), name='img_B_inp')\n",
        "        img_B_reshaped = Reshape((dim, dim, chan))(img_B_inp)\n",
        "\n",
        "        def get_cnn_block(depth):\n",
        "            return Sequential([\n",
        "                Conv2D(depth, 1, padding='same'),\n",
        "                BatchNormalization(),\n",
        "                Activation('relu'),\n",
        "                MaxPooling2D(),\n",
        "                Dropout(0.2)\n",
        "            ])\n",
        "\n",
        "        DEPTH = 32\n",
        "        cnn = Sequential([\n",
        "            #data_augmentation,\n",
        "            get_cnn_block(DEPTH),\n",
        "            get_cnn_block(DEPTH*2),\n",
        "            get_cnn_block(DEPTH*4),\n",
        "            get_cnn_block(DEPTH*8),\n",
        "            GlobalAveragePooling2D(),\n",
        "            Flatten(),\n",
        "            Dense(64, activation='relu')\n",
        "        ])\n",
        "\n",
        "        feature_vector_A = cnn(img_A_inp)\n",
        "        feature_vector_B = cnn(img_B_inp)\n",
        "\n",
        "        concat = Concatenate()([feature_vector_A, feature_vector_B])\n",
        "\n",
        "        dense = Dense(64, activation='relu')(concat)\n",
        "        output = Dense(2, activation='softmax')(dense)\n",
        "\n",
        "        model = Model(inputs=[img_A_inp, img_B_inp], outputs=output)\n",
        "\n",
        "        # Compile the model\n",
        "        model.compile(optimizer='adam', loss='categorical_crossentropy', metrics=['accuracy'])\n",
        "\n",
        "        # Train the model\n",
        "        model.fit([X_train_pairs_A, X_train_pairs_B], tf.keras.utils.to_categorical(y_train_pairs, num_classes=2), epochs=30, batch_size=8, verbose=0)\n",
        "\n",
        "        # Evaluate the model\n",
        "        y_pred = model.predict([X_val_pairs_A, X_val_pairs_B])\n",
        "        y_pred_class = np.argmax(y_pred, axis=1)\n",
        "        accuracy = np.mean(y_pred_class == y_val_pairs)\n",
        "\n",
        "        return -accuracy\n",
        "\n",
        "    def tune_hyperparameters(self, n_trials=50):\n",
        "        study = optuna.create_study(direction='minimize', pruner=MedianPruner())\n",
        "        study.optimize(self.objective, n_trials=n_trials)\n",
        "        best_trial = study.best_trial\n",
        "        best_params = best_trial.params\n",
        "        best_accuracy = -best_trial.value\n",
        "        return best_params, best_accuracy\n",
        "\n"
      ]
    },
    {
      "cell_type": "code",
      "execution_count": null,
      "metadata": {
        "colab": {
          "base_uri": "https://localhost:8080/"
        },
        "id": "c5sHI9QrNKx0",
        "outputId": "f823e942-52b2-4df5-edd2-c2ac54849b32"
      },
      "outputs": [
        {
          "name": "stderr",
          "output_type": "stream",
          "text": [
            "[I 2024-09-09 16:36:24,126] A new study created in memory with name: no-name-c77e34ee-aef1-4d34-a2dd-230a366fee6d\n",
            "/usr/local/lib/python3.10/dist-packages/optuna/distributions.py:524: UserWarning: Choices for a categorical distribution should be a tuple of None, bool, int, float and str for persistent storage but contains (3, 3) which is of type tuple.\n",
            "  warnings.warn(message)\n",
            "/usr/local/lib/python3.10/dist-packages/optuna/distributions.py:524: UserWarning: Choices for a categorical distribution should be a tuple of None, bool, int, float and str for persistent storage but contains (5, 5) which is of type tuple.\n",
            "  warnings.warn(message)\n",
            "/usr/local/lib/python3.10/dist-packages/optuna/distributions.py:524: UserWarning: Choices for a categorical distribution should be a tuple of None, bool, int, float and str for persistent storage but contains (7, 7) which is of type tuple.\n",
            "  warnings.warn(message)\n",
            "/usr/local/lib/python3.10/dist-packages/optuna/distributions.py:524: UserWarning: Choices for a categorical distribution should be a tuple of None, bool, int, float and str for persistent storage but contains (9, 9) which is of type tuple.\n",
            "  warnings.warn(message)\n",
            "/usr/local/lib/python3.10/dist-packages/optuna/distributions.py:524: UserWarning: Choices for a categorical distribution should be a tuple of None, bool, int, float and str for persistent storage but contains (11, 11) which is of type tuple.\n",
            "  warnings.warn(message)\n"
          ]
        },
        {
          "name": "stdout",
          "output_type": "stream",
          "text": [
            "\u001b[1m25/25\u001b[0m \u001b[32m━━━━━━━━━━━━━━━━━━━━\u001b[0m\u001b[37m\u001b[0m \u001b[1m3s\u001b[0m 67ms/step\n"
          ]
        },
        {
          "name": "stderr",
          "output_type": "stream",
          "text": [
            "[I 2024-09-09 16:45:57,165] Trial 0 finished with value: -0.7878017789072427 and parameters: {'kernel_size': (9, 9), 'sigma': 7.604297600887105, 'theta': 30, 'lambda_': 9.161830400067139, 'gamma': 0.786988510101412, 'psi': 15}. Best is trial 0 with value: -0.7878017789072427.\n"
          ]
        },
        {
          "name": "stdout",
          "output_type": "stream",
          "text": [
            "\u001b[1m25/25\u001b[0m \u001b[32m━━━━━━━━━━━━━━━━━━━━\u001b[0m\u001b[37m\u001b[0m \u001b[1m2s\u001b[0m 62ms/step\n"
          ]
        },
        {
          "name": "stderr",
          "output_type": "stream",
          "text": [
            "[I 2024-09-09 16:55:13,941] Trial 1 finished with value: -0.8316326530612245 and parameters: {'kernel_size': (7, 7), 'sigma': 5.112836726495661, 'theta': 90, 'lambda_': 5.046123870676069, 'gamma': 0.7503265643684676, 'psi': 15}. Best is trial 1 with value: -0.8316326530612245.\n"
          ]
        },
        {
          "name": "stdout",
          "output_type": "stream",
          "text": [
            "\u001b[1m25/25\u001b[0m \u001b[32m━━━━━━━━━━━━━━━━━━━━\u001b[0m\u001b[37m\u001b[0m \u001b[1m2s\u001b[0m 41ms/step\n"
          ]
        },
        {
          "name": "stderr",
          "output_type": "stream",
          "text": [
            "[I 2024-09-09 17:04:32,180] Trial 2 finished with value: -0.8239795918367347 and parameters: {'kernel_size': (7, 7), 'sigma': 1.5228162502736784, 'theta': 15, 'lambda_': 3.8649312537070317, 'gamma': 0.8943384871063476, 'psi': 60}. Best is trial 1 with value: -0.8316326530612245.\n"
          ]
        },
        {
          "name": "stdout",
          "output_type": "stream",
          "text": [
            "\u001b[1m25/25\u001b[0m \u001b[32m━━━━━━━━━━━━━━━━━━━━\u001b[0m\u001b[37m\u001b[0m \u001b[1m2s\u001b[0m 61ms/step\n"
          ]
        },
        {
          "name": "stderr",
          "output_type": "stream",
          "text": [
            "[I 2024-09-09 17:13:48,325] Trial 3 finished with value: -0.7992327365728901 and parameters: {'kernel_size': (7, 7), 'sigma': 2.5191667694142486, 'theta': 75, 'lambda_': 4.881409008229399, 'gamma': 0.844612886597169, 'psi': 15}. Best is trial 1 with value: -0.8316326530612245.\n"
          ]
        },
        {
          "name": "stdout",
          "output_type": "stream",
          "text": [
            "\u001b[1m25/25\u001b[0m \u001b[32m━━━━━━━━━━━━━━━━━━━━\u001b[0m\u001b[37m\u001b[0m \u001b[1m2s\u001b[0m 41ms/step\n"
          ]
        },
        {
          "name": "stderr",
          "output_type": "stream",
          "text": [
            "[I 2024-09-09 17:23:01,396] Trial 4 finished with value: -0.8214285714285714 and parameters: {'kernel_size': (3, 3), 'sigma': 8.599667600818066, 'theta': 0, 'lambda_': 4.1180454591573845, 'gamma': 1.8694487081978923, 'psi': 15}. Best is trial 1 with value: -0.8316326530612245.\n"
          ]
        },
        {
          "name": "stdout",
          "output_type": "stream",
          "text": [
            "\u001b[1m25/25\u001b[0m \u001b[32m━━━━━━━━━━━━━━━━━━━━\u001b[0m\u001b[37m\u001b[0m \u001b[1m2s\u001b[0m 68ms/step\n"
          ]
        },
        {
          "name": "stderr",
          "output_type": "stream",
          "text": [
            "[I 2024-09-09 17:32:18,201] Trial 5 finished with value: -0.6878172588832487 and parameters: {'kernel_size': (9, 9), 'sigma': 5.7704241129438065, 'theta': 30, 'lambda_': 8.191284957774208, 'gamma': 1.4385280568909578, 'psi': 45}. Best is trial 1 with value: -0.8316326530612245.\n"
          ]
        },
        {
          "name": "stdout",
          "output_type": "stream",
          "text": [
            "\u001b[1m25/25\u001b[0m \u001b[32m━━━━━━━━━━━━━━━━━━━━\u001b[0m\u001b[37m\u001b[0m \u001b[1m2s\u001b[0m 41ms/step\n"
          ]
        },
        {
          "name": "stderr",
          "output_type": "stream",
          "text": [
            "[I 2024-09-09 17:41:27,452] Trial 6 finished with value: -0.8112244897959183 and parameters: {'kernel_size': (3, 3), 'sigma': 3.9001413525108557, 'theta': 90, 'lambda_': 7.878750551253993, 'gamma': 1.7677527840776375, 'psi': 15}. Best is trial 1 with value: -0.8316326530612245.\n"
          ]
        },
        {
          "name": "stdout",
          "output_type": "stream",
          "text": [
            "\u001b[1m25/25\u001b[0m \u001b[32m━━━━━━━━━━━━━━━━━━━━\u001b[0m\u001b[37m\u001b[0m \u001b[1m2s\u001b[0m 62ms/step\n"
          ]
        },
        {
          "name": "stderr",
          "output_type": "stream",
          "text": [
            "[I 2024-09-09 17:50:37,432] Trial 7 finished with value: -0.8671775223499362 and parameters: {'kernel_size': (3, 3), 'sigma': 9.323548930857886, 'theta': 60, 'lambda_': 3.6017132046228832, 'gamma': 1.0259644842363365, 'psi': 0}. Best is trial 7 with value: -0.8671775223499362.\n"
          ]
        },
        {
          "name": "stdout",
          "output_type": "stream",
          "text": [
            "\u001b[1m25/25\u001b[0m \u001b[32m━━━━━━━━━━━━━━━━━━━━\u001b[0m\u001b[37m\u001b[0m \u001b[1m2s\u001b[0m 68ms/step\n"
          ]
        },
        {
          "name": "stderr",
          "output_type": "stream",
          "text": [
            "[I 2024-09-09 18:00:01,589] Trial 8 finished with value: -0.8696202531645569 and parameters: {'kernel_size': (11, 11), 'sigma': 8.500015501648654, 'theta': 15, 'lambda_': 1.4378932608732524, 'gamma': 1.7575958056951038, 'psi': 45}. Best is trial 8 with value: -0.8696202531645569.\n"
          ]
        },
        {
          "name": "stdout",
          "output_type": "stream",
          "text": [
            "\u001b[1m25/25\u001b[0m \u001b[32m━━━━━━━━━━━━━━━━━━━━\u001b[0m\u001b[37m\u001b[0m \u001b[1m2s\u001b[0m 43ms/step\n"
          ]
        },
        {
          "name": "stderr",
          "output_type": "stream",
          "text": [
            "[I 2024-09-09 18:09:11,113] Trial 9 finished with value: -0.8646232439335888 and parameters: {'kernel_size': (3, 3), 'sigma': 1.4156318476049101, 'theta': 75, 'lambda_': 1.1009940593329088, 'gamma': 0.8010310634623555, 'psi': 0}. Best is trial 8 with value: -0.8696202531645569.\n"
          ]
        },
        {
          "name": "stdout",
          "output_type": "stream",
          "text": [
            "\u001b[1m25/25\u001b[0m \u001b[32m━━━━━━━━━━━━━━━━━━━━\u001b[0m\u001b[37m\u001b[0m \u001b[1m2s\u001b[0m 67ms/step\n"
          ]
        },
        {
          "name": "stderr",
          "output_type": "stream",
          "text": [
            "[I 2024-09-09 18:18:31,785] Trial 10 finished with value: -0.6945500633713562 and parameters: {'kernel_size': (11, 11), 'sigma': 7.049224310946094, 'theta': 15, 'lambda_': 1.459420789751001, 'gamma': 1.4251407187658964, 'psi': 45}. Best is trial 8 with value: -0.8696202531645569.\n"
          ]
        },
        {
          "name": "stdout",
          "output_type": "stream",
          "text": [
            "\u001b[1m25/25\u001b[0m \u001b[32m━━━━━━━━━━━━━━━━━━━━\u001b[0m\u001b[37m\u001b[0m \u001b[1m2s\u001b[0m 42ms/step\n"
          ]
        },
        {
          "name": "stderr",
          "output_type": "stream",
          "text": [
            "[I 2024-09-09 18:27:45,428] Trial 11 finished with value: -0.8427109974424553 and parameters: {'kernel_size': (5, 5), 'sigma': 9.957386692258623, 'theta': 60, 'lambda_': 2.627889019760163, 'gamma': 1.1224946164067537, 'psi': 0}. Best is trial 8 with value: -0.8696202531645569.\n"
          ]
        },
        {
          "name": "stdout",
          "output_type": "stream",
          "text": [
            "\u001b[1m25/25\u001b[0m \u001b[32m━━━━━━━━━━━━━━━━━━━━\u001b[0m\u001b[37m\u001b[0m \u001b[1m2s\u001b[0m 67ms/step\n"
          ]
        },
        {
          "name": "stderr",
          "output_type": "stream",
          "text": [
            "[I 2024-09-09 18:37:10,283] Trial 12 finished with value: -0.8191082802547771 and parameters: {'kernel_size': (11, 11), 'sigma': 9.821514950366984, 'theta': 60, 'lambda_': 2.9065869217949327, 'gamma': 1.2038411889694953, 'psi': 75}. Best is trial 8 with value: -0.8696202531645569.\n"
          ]
        },
        {
          "name": "stdout",
          "output_type": "stream",
          "text": [
            "\u001b[1m25/25\u001b[0m \u001b[32m━━━━━━━━━━━━━━━━━━━━\u001b[0m\u001b[37m\u001b[0m \u001b[1m2s\u001b[0m 41ms/step\n"
          ]
        },
        {
          "name": "stderr",
          "output_type": "stream",
          "text": [
            "[I 2024-09-09 18:46:34,011] Trial 13 finished with value: -0.7436224489795918 and parameters: {'kernel_size': (11, 11), 'sigma': 8.478277936855172, 'theta': 45, 'lambda_': 6.682489495083127, 'gamma': 1.5668954609795362, 'psi': 90}. Best is trial 8 with value: -0.8696202531645569.\n"
          ]
        },
        {
          "name": "stdout",
          "output_type": "stream",
          "text": [
            "\u001b[1m25/25\u001b[0m \u001b[32m━━━━━━━━━━━━━━━━━━━━\u001b[0m\u001b[37m\u001b[0m \u001b[1m2s\u001b[0m 68ms/step\n"
          ]
        },
        {
          "name": "stderr",
          "output_type": "stream",
          "text": [
            "[I 2024-09-09 18:55:45,613] Trial 14 finished with value: -0.851145038167939 and parameters: {'kernel_size': (5, 5), 'sigma': 6.619361654102951, 'theta': 60, 'lambda_': 2.108167691290082, 'gamma': 0.5386617985324982, 'psi': 30}. Best is trial 8 with value: -0.8696202531645569.\n"
          ]
        },
        {
          "name": "stdout",
          "output_type": "stream",
          "text": [
            "\u001b[1m25/25\u001b[0m \u001b[32m━━━━━━━━━━━━━━━━━━━━\u001b[0m\u001b[37m\u001b[0m \u001b[1m2s\u001b[0m 42ms/step\n"
          ]
        },
        {
          "name": "stderr",
          "output_type": "stream",
          "text": [
            "[I 2024-09-09 19:05:10,859] Trial 15 finished with value: -0.761118170266836 and parameters: {'kernel_size': (11, 11), 'sigma': 8.522696632033627, 'theta': 15, 'lambda_': 3.624630230030969, 'gamma': 1.0943726283765947, 'psi': 45}. Best is trial 8 with value: -0.8696202531645569.\n"
          ]
        },
        {
          "name": "stdout",
          "output_type": "stream",
          "text": [
            "\u001b[1m25/25\u001b[0m \u001b[32m━━━━━━━━━━━━━━━━━━━━\u001b[0m\u001b[37m\u001b[0m \u001b[1m2s\u001b[0m 42ms/step\n"
          ]
        },
        {
          "name": "stderr",
          "output_type": "stream",
          "text": [
            "[I 2024-09-09 19:14:12,362] Trial 16 finished with value: -0.832274459974587 and parameters: {'kernel_size': (3, 3), 'sigma': 9.119364401537663, 'theta': 0, 'lambda_': 5.659857106727527, 'gamma': 1.6352061703559029, 'psi': 0}. Best is trial 8 with value: -0.8696202531645569.\n"
          ]
        }
      ],
      "source": [
        "from optuna.pruners import MedianPruner\n",
        "# Set the verbosity level to INFO\n",
        "optuna.logging.set_verbosity(optuna.logging.DEBUG)\n",
        "\n",
        "# Create an instance of the GaborFilterTuner class\n",
        "tuner = GaborFilterTuner(train_ds, val_ds)\n",
        "\n",
        "# Tune the hyperparameters\n",
        "best_params, best_accuracy = tuner.tune_hyperparameters(n_trials=20)\n",
        "\n",
        "print(\"Best parameters:\", best_params)\n",
        "print(\"Best accuracy:\", best_accuracy)"
      ]
    }
  ],
  "metadata": {
    "accelerator": "GPU",
    "colab": {
      "gpuType": "L4",
      "machine_shape": "hm",
      "provenance": []
    },
    "kernelspec": {
      "display_name": "Python 3",
      "name": "python3"
    },
    "language_info": {
      "name": "python"
    }
  },
  "nbformat": 4,
  "nbformat_minor": 0
}